{
 "cells": [
  {
   "cell_type": "markdown",
   "metadata": {},
   "source": [
    "### Getting started with Langchain And Open AI\n",
    "\n",
    "In this quickstart we'll see how to:\n",
    "\n",
    "Get setup with LangChain, LangSmith and LangServe\n",
    "use the most basic and common components of LangChain: Prompt templates, models and output parsers.\n",
    "Build a simple application with LangChain\n",
    "Trace your application with LangSmith\n",
    "Serve your application with LangServe"
   ]
  },
  {
   "cell_type": "markdown",
   "metadata": {},
   "source": [
    " "
   ]
  }
 ],
 "metadata": {
  "language_info": {
   "name": "python"
  }
 },
 "nbformat": 4,
 "nbformat_minor": 2
}
